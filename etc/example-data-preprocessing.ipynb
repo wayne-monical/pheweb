{
 "cells": [
  {
   "cell_type": "markdown",
   "id": "ab73b10b",
   "metadata": {},
   "source": [
    "# Data Preprocessing for Pheweb\n",
    "\n",
    "This jupyter notebook takes a directory of SNP-level data and reformats it in Pheweb's prefered style."
   ]
  },
  {
   "cell_type": "code",
   "execution_count": null,
   "id": "6f88ade5-2480-4dbd-a9a2-bdac4f64e0e2",
   "metadata": {},
   "outputs": [
    {
     "data": {
      "text/html": [
       "<div>\n",
       "<style scoped>\n",
       "    .dataframe tbody tr th:only-of-type {\n",
       "        vertical-align: middle;\n",
       "    }\n",
       "\n",
       "    .dataframe tbody tr th {\n",
       "        vertical-align: top;\n",
       "    }\n",
       "\n",
       "    .dataframe thead th {\n",
       "        text-align: right;\n",
       "    }\n",
       "</style>\n",
       "<table border=\"1\" class=\"dataframe\">\n",
       "  <thead>\n",
       "    <tr style=\"text-align: right;\">\n",
       "      <th></th>\n",
       "      <th>phenotype</th>\n",
       "      <th>snp</th>\n",
       "      <th>adjustment</th>\n",
       "      <th>beta</th>\n",
       "      <th>OR</th>\n",
       "      <th>SE</th>\n",
       "      <th>p</th>\n",
       "      <th>type</th>\n",
       "      <th>n_total</th>\n",
       "      <th>n_cases</th>\n",
       "      <th>...</th>\n",
       "      <th>beta.random</th>\n",
       "      <th>OR.random</th>\n",
       "      <th>SE.random</th>\n",
       "      <th>p.random</th>\n",
       "      <th>description</th>\n",
       "      <th>group</th>\n",
       "      <th>reference_hg38</th>\n",
       "      <th>alternate_hg38</th>\n",
       "      <th>reference_hg19</th>\n",
       "      <th>alternate_hg19</th>\n",
       "    </tr>\n",
       "  </thead>\n",
       "  <tbody>\n",
       "    <tr>\n",
       "      <th>0</th>\n",
       "      <td>110.00</td>\n",
       "      <td>16:4353432_T</td>\n",
       "      <td>none</td>\n",
       "      <td>-0.000151</td>\n",
       "      <td>0.999849</td>\n",
       "      <td>0.005953</td>\n",
       "      <td>0.979734</td>\n",
       "      <td>logistic</td>\n",
       "      <td>1237800</td>\n",
       "      <td>177241</td>\n",
       "      <td>...</td>\n",
       "      <td>0.006178</td>\n",
       "      <td>1.006197</td>\n",
       "      <td>0.012305</td>\n",
       "      <td>0.615617</td>\n",
       "      <td>Dermatophytosis / Dermatomycosis</td>\n",
       "      <td>infectious diseases</td>\n",
       "      <td>C</td>\n",
       "      <td>NaN</td>\n",
       "      <td>C</td>\n",
       "      <td>NaN</td>\n",
       "    </tr>\n",
       "    <tr>\n",
       "      <th>1</th>\n",
       "      <td>110.10</td>\n",
       "      <td>16:4353432_T</td>\n",
       "      <td>none</td>\n",
       "      <td>-0.000312</td>\n",
       "      <td>0.999688</td>\n",
       "      <td>0.006069</td>\n",
       "      <td>0.959032</td>\n",
       "      <td>logistic</td>\n",
       "      <td>1237416</td>\n",
       "      <td>170510</td>\n",
       "      <td>...</td>\n",
       "      <td>0.010304</td>\n",
       "      <td>1.010357</td>\n",
       "      <td>0.015522</td>\n",
       "      <td>0.506800</td>\n",
       "      <td>Dermatophytosis</td>\n",
       "      <td>infectious diseases</td>\n",
       "      <td>C</td>\n",
       "      <td>NaN</td>\n",
       "      <td>C</td>\n",
       "      <td>NaN</td>\n",
       "    </tr>\n",
       "    <tr>\n",
       "      <th>2</th>\n",
       "      <td>110.11</td>\n",
       "      <td>16:4353432_T</td>\n",
       "      <td>none</td>\n",
       "      <td>0.002182</td>\n",
       "      <td>1.002185</td>\n",
       "      <td>0.006721</td>\n",
       "      <td>0.745428</td>\n",
       "      <td>logistic</td>\n",
       "      <td>1251709</td>\n",
       "      <td>128081</td>\n",
       "      <td>...</td>\n",
       "      <td>0.009433</td>\n",
       "      <td>1.009478</td>\n",
       "      <td>0.016507</td>\n",
       "      <td>0.567693</td>\n",
       "      <td>Dermatophytosis of nail</td>\n",
       "      <td>infectious diseases</td>\n",
       "      <td>C</td>\n",
       "      <td>NaN</td>\n",
       "      <td>C</td>\n",
       "      <td>NaN</td>\n",
       "    </tr>\n",
       "    <tr>\n",
       "      <th>3</th>\n",
       "      <td>110.12</td>\n",
       "      <td>16:4353432_T</td>\n",
       "      <td>none</td>\n",
       "      <td>0.000275</td>\n",
       "      <td>1.000275</td>\n",
       "      <td>0.010969</td>\n",
       "      <td>0.980001</td>\n",
       "      <td>logistic</td>\n",
       "      <td>1251344</td>\n",
       "      <td>36804</td>\n",
       "      <td>...</td>\n",
       "      <td>0.018498</td>\n",
       "      <td>1.018670</td>\n",
       "      <td>0.022352</td>\n",
       "      <td>0.407917</td>\n",
       "      <td>Althete's foot</td>\n",
       "      <td>infectious diseases</td>\n",
       "      <td>C</td>\n",
       "      <td>NaN</td>\n",
       "      <td>C</td>\n",
       "      <td>NaN</td>\n",
       "    </tr>\n",
       "    <tr>\n",
       "      <th>4</th>\n",
       "      <td>110.13</td>\n",
       "      <td>16:4353432_T</td>\n",
       "      <td>none</td>\n",
       "      <td>0.027595</td>\n",
       "      <td>1.027980</td>\n",
       "      <td>0.016599</td>\n",
       "      <td>0.096426</td>\n",
       "      <td>logistic</td>\n",
       "      <td>1258137</td>\n",
       "      <td>13211</td>\n",
       "      <td>...</td>\n",
       "      <td>0.027595</td>\n",
       "      <td>1.027980</td>\n",
       "      <td>0.016599</td>\n",
       "      <td>0.096426</td>\n",
       "      <td>Dermatophytosis of the body</td>\n",
       "      <td>infectious diseases</td>\n",
       "      <td>C</td>\n",
       "      <td>NaN</td>\n",
       "      <td>C</td>\n",
       "      <td>NaN</td>\n",
       "    </tr>\n",
       "  </tbody>\n",
       "</table>\n",
       "<p>5 rows × 34 columns</p>\n",
       "</div>"
      ],
      "text/plain": [
       "   phenotype           snp adjustment      beta        OR        SE         p  \\\n",
       "0     110.00  16:4353432_T       none -0.000151  0.999849  0.005953  0.979734   \n",
       "1     110.10  16:4353432_T       none -0.000312  0.999688  0.006069  0.959032   \n",
       "2     110.11  16:4353432_T       none  0.002182  1.002185  0.006721  0.745428   \n",
       "3     110.12  16:4353432_T       none  0.000275  1.000275  0.010969  0.980001   \n",
       "4     110.13  16:4353432_T       none  0.027595  1.027980  0.016599  0.096426   \n",
       "\n",
       "       type  n_total  n_cases  ...  beta.random  OR.random  SE.random  \\\n",
       "0  logistic  1237800   177241  ...     0.006178   1.006197   0.012305   \n",
       "1  logistic  1237416   170510  ...     0.010304   1.010357   0.015522   \n",
       "2  logistic  1251709   128081  ...     0.009433   1.009478   0.016507   \n",
       "3  logistic  1251344    36804  ...     0.018498   1.018670   0.022352   \n",
       "4  logistic  1258137    13211  ...     0.027595   1.027980   0.016599   \n",
       "\n",
       "   p.random                       description                group  \\\n",
       "0  0.615617  Dermatophytosis / Dermatomycosis  infectious diseases   \n",
       "1  0.506800                   Dermatophytosis  infectious diseases   \n",
       "2  0.567693           Dermatophytosis of nail  infectious diseases   \n",
       "3  0.407917                    Althete's foot  infectious diseases   \n",
       "4  0.096426       Dermatophytosis of the body  infectious diseases   \n",
       "\n",
       "   reference_hg38  alternate_hg38  reference_hg19  alternate_hg19  \n",
       "0               C             NaN               C             NaN  \n",
       "1               C             NaN               C             NaN  \n",
       "2               C             NaN               C             NaN  \n",
       "3               C             NaN               C             NaN  \n",
       "4               C             NaN               C             NaN  \n",
       "\n",
       "[5 rows x 34 columns]"
      ]
     },
     "execution_count": 14,
     "metadata": {},
     "output_type": "execute_result"
    }
   ],
   "source": [
    "import pandas as pd\n",
    "import glob\n",
    "import os\n",
    "import json\n",
    "\n",
    "# Define the folder path\n",
    "folder_path = \"raw_data\"  # Change this to your actual folder path\n",
    "\n",
    "# Get a list of all CSV files in the folder\n",
    "csv_files = glob.glob(os.path.join(folder_path, \"*.csv\"))\n",
    "\n",
    "# Read each CSV file and store them in a list\n",
    "df_list = [pd.read_csv(file) for file in csv_files]\n",
    "\n",
    "# Concatenate all DataFrames into one\n",
    "df_combined = pd.concat(df_list, ignore_index=True)\n",
    "\n",
    "# cleaning\n",
    "df_combined = df_combined.assign(snp = df_combined.snp.str.replace('`', ''))\n",
    "\n",
    "# add reference alleles\n",
    "reference = pd.read_csv('reference_genome.csv')\n",
    "\n",
    "# add onto main df\n",
    "df_combined = df_combined.merge(reference, how = 'left')\n",
    "\n",
    "# drop the n = 0 rows\n",
    "df_combined = df_combined[df_combined.n_total > 0]\n",
    "\n",
    "# Display the combined DataFrame\n",
    "df_combined.head()"
   ]
  },
  {
   "cell_type": "markdown",
   "id": "8e822464",
   "metadata": {},
   "source": [
    "The given SNP data is in the form \"16:4353432_T\", \"Chromosome:Position_Nucleotide\". The code below reformats and renames the columns\t"
   ]
  },
  {
   "cell_type": "code",
   "execution_count": 16,
   "id": "065e5d18-9b36-4472-b416-264fddfb77c6",
   "metadata": {},
   "outputs": [],
   "source": [
    "# extract the SNP data\n",
    "df_combined[['chrom', 'pos', 'alternate']] = df_combined.snp.str.extract(r'(\\d+):(\\d+)_([A-Za-z])')\n",
    "\n",
    "# rename necessary cols\n",
    "df_combined = df_combined.assign(\n",
    "\n",
    "    # clean\n",
    "    phenocode = df_combined.phenotype,\n",
    "    phenostring = df_combined.description,\n",
    "    clean_phenotype = df_combined.description.str.lower().str.replace('[ -]', '_', regex = True).str.replace(\"[',\\\\]\\\\[\\\\(\\\\)/;&\\\\.]\", \"\", regex = True),\n",
    "\n",
    "    # rename\n",
    "    reference = df_combined.reference_hg19,\n",
    "    num_samples = df_combined.n_total,\n",
    "    num_controls = df_combined.n_controls,\n",
    "    num_cases = df_combined.n_cases,\n",
    "    se = df_combined.SE,\n",
    "\n",
    "    maf = round(df_combined.assign(allele_freq2 = 1 - df_combined.allele_freq)[['allele_freq', 'allele_freq2']].min(axis = 1), 2),\n",
    "    # maf = df_combined.allele_freq,\n",
    "\n",
    "    # capitalize the first letter\n",
    "    category = df_combined.group.str.slice(0,1).str.upper() + df_combined.group.str.slice(1),\n",
    "\n",
    "    # retype\n",
    "    chrom = df_combined.chrom.astype(int),\n",
    "    pos = df_combined.pos.astype(int)\n",
    ")\n",
    "\n",
    "df_combined['or'] = df_combined.OR\n",
    "df_combined['af'] = 1 - df_combined.maf"
   ]
  },
  {
   "cell_type": "code",
   "execution_count": 17,
   "id": "18bb85e9-df8b-45ec-8ba7-497c226dbeb9",
   "metadata": {},
   "outputs": [],
   "source": [
    "final_cols = [\n",
    "    'chrom', 'pos', 'reference', 'alternate', 'p',\n",
    "    'num_cases', 'num_controls', 'maf', 'af', 'beta', 'se', 'or'\n",
    "]"
   ]
  },
  {
   "cell_type": "markdown",
   "id": "fc2e0344",
   "metadata": {},
   "source": [
    "Pheweb requires that the reference allele of the GWAS aligns with the reference allele of hg19 or hg18. If you have the reference allele and the alternate allele swapped, then you have to flip the effect size (beta). "
   ]
  },
  {
   "cell_type": "code",
   "execution_count": null,
   "id": "b3821a1b",
   "metadata": {},
   "outputs": [],
   "source": [
    "# Where the reference allele equals the alternate allele, use the hg19 alternate allele\n",
    "# swap the effect size sign\n",
    "df_combined.loc[df_combined.reference == df_combined.alternate, 'beta'] = df_combined.loc[df_combined.reference == df_combined.alternate, 'beta'] * -1\n",
    "\n",
    "# and change the odds ratio\n",
    "df_combined.loc[df_combined.reference == df_combined.alternate, 'or'] =  1 / df_combined.loc[df_combined.reference == df_combined.alternate, 'or'] \n",
    "\n",
    "# and use the hg19 alternate allele \n",
    "df_combined.loc[df_combined.reference == df_combined.alternate, 'reference'] = df_combined.loc[df_combined.reference == df_combined.alternate, 'alternate_hg19']"
   ]
  },
  {
   "cell_type": "markdown",
   "id": "989db9dc",
   "metadata": {},
   "source": [
    "Check that all SNPs have been successfully parsed."
   ]
  },
  {
   "cell_type": "code",
   "execution_count": null,
   "id": "afc596ab-85ef-49cd-9af7-ccef9cad7d1c",
   "metadata": {},
   "outputs": [
    {
     "data": {
      "text/html": [
       "<div>\n",
       "<style scoped>\n",
       "    .dataframe tbody tr th:only-of-type {\n",
       "        vertical-align: middle;\n",
       "    }\n",
       "\n",
       "    .dataframe tbody tr th {\n",
       "        vertical-align: top;\n",
       "    }\n",
       "\n",
       "    .dataframe thead th {\n",
       "        text-align: right;\n",
       "    }\n",
       "</style>\n",
       "<table border=\"1\" class=\"dataframe\">\n",
       "  <thead>\n",
       "    <tr style=\"text-align: right;\">\n",
       "      <th></th>\n",
       "      <th>snp</th>\n",
       "      <th>chrom</th>\n",
       "      <th>pos</th>\n",
       "      <th>reference</th>\n",
       "      <th>alternate</th>\n",
       "      <th>p</th>\n",
       "      <th>num_cases</th>\n",
       "      <th>num_controls</th>\n",
       "      <th>maf</th>\n",
       "      <th>af</th>\n",
       "      <th>beta</th>\n",
       "      <th>se</th>\n",
       "      <th>or</th>\n",
       "    </tr>\n",
       "  </thead>\n",
       "  <tbody>\n",
       "  </tbody>\n",
       "</table>\n",
       "</div>"
      ],
      "text/plain": [
       "Empty DataFrame\n",
       "Columns: [snp, chrom, pos, reference, alternate, p, num_cases, num_controls, maf, af, beta, se, or]\n",
       "Index: []"
      ]
     },
     "execution_count": 21,
     "metadata": {},
     "output_type": "execute_result"
    }
   ],
   "source": [
    "# check that we got all chromosomes\n",
    "df_combined[df_combined.chrom.isna()][['snp'] + final_cols]\n"
   ]
  },
  {
   "cell_type": "code",
   "execution_count": null,
   "id": "9f7d3a2a-ec1e-4b85-853e-58cf56d3162d",
   "metadata": {},
   "outputs": [],
   "source": [
    "# sort very important for Pheweb\n",
    "df_combined = df_combined.sort_values(['phenocode', 'chrom', 'pos'])"
   ]
  },
  {
   "cell_type": "code",
   "execution_count": 23,
   "id": "dfba9ae6-e44a-4662-a96a-56b683ef457e",
   "metadata": {},
   "outputs": [],
   "source": [
    "# final file\n",
    "df_combined[['phenocode', 'phenostring', 'clean_phenotype', 'category'] + final_cols].to_csv('all_data.csv', index = False)"
   ]
  },
  {
   "cell_type": "code",
   "execution_count": 24,
   "id": "d5ae39c1-7e22-4c2b-a31f-33180f93f2c2",
   "metadata": {},
   "outputs": [
    {
     "data": {
      "text/plain": [
       "<Axes: >"
      ]
     },
     "execution_count": 24,
     "metadata": {},
     "output_type": "execute_result"
    },
    {
     "data": {
      "image/png": "[encoded data removed]",
      "text/plain": [
       "<Figure size 640x480 with 1 Axes>"
      ]
     },
     "metadata": {},
     "output_type": "display_data"
    }
   ],
   "source": [
    "# note that the p-value is raw\n",
    "df_combined.p.hist()"
   ]
  },
  {
   "cell_type": "markdown",
   "id": "2454e555-fde6-4a8c-b439-fdfce54776e4",
   "metadata": {},
   "source": [
    "## Formatting "
   ]
  },
  {
   "cell_type": "markdown",
   "id": "01689128-fa78-4aa0-a8b8-5bb884f2b6fc",
   "metadata": {},
   "source": [
    "Format the files per phenotype"
   ]
  },
  {
   "cell_type": "code",
   "execution_count": null,
   "id": "d7094c65",
   "metadata": {},
   "outputs": [
    {
     "data": {
      "text/plain": [
       "Series([], Name: phenocode, dtype: float64)"
      ]
     },
     "execution_count": 25,
     "metadata": {},
     "output_type": "execute_result"
    }
   ],
   "source": [
    "# do any phenocodes have zero samples? \n",
    "n_totals = df_combined.groupby('phenocode').n_total.sum()\n",
    "pd.Series(n_totals[n_totals == 0].index)"
   ]
  },
  {
   "cell_type": "code",
   "execution_count": 26,
   "id": "d94f40b2",
   "metadata": {},
   "outputs": [],
   "source": [
    "unique_phenotypes = df_combined[['phenocode', 'phenostring', 'category', 'clean_phenotype']].drop_duplicates()\n",
    "\n",
    "# check for consistent phenotype categories\n",
    "if unique_phenotypes.shape[0] != df_combined.phenocode.nunique():\n",
    "    raise ValueError(\"Non-unique phenotype categories. One or more phenotypes have multiple categories\")"
   ]
  },
  {
   "cell_type": "code",
   "execution_count": null,
   "id": "af17fa4d-c5d3-4c62-b4ae-74c6c64a1d61",
   "metadata": {},
   "outputs": [],
   "source": [
    "# remove all files in the clean folder\n",
    "import os\n",
    "import glob\n",
    "\n",
    "files = glob.glob('clean_data/*.csv')\n",
    "for f in files:\n",
    "    os.remove(f)\n",
    "\n",
    "# make a file for each phenotype\n",
    "for pheno in unique_phenotypes.clean_phenotype:\n",
    "    df_combined[df_combined.clean_phenotype == pheno][final_cols].to_csv('clean_data/' + str(pheno) + '.csv', index = False)"
   ]
  },
  {
   "cell_type": "markdown",
   "id": "b6fff18c",
   "metadata": {},
   "source": [
    "## Create the Phenotype List for Pheweb\n",
    "\n",
    "Though Pheweb has some ability to do this, I found making it myself to be easier"
   ]
  },
  {
   "cell_type": "code",
   "execution_count": 29,
   "id": "70880907",
   "metadata": {},
   "outputs": [],
   "source": [
    "pheno_df = unique_phenotypes.assign(\n",
    "    assoc_files = 'clean_data/' + unique_phenotypes.clean_phenotype + '.csv'\n",
    "    )[['assoc_files',  'category', 'phenocode', 'phenostring']]\n",
    "\n",
    "pheno_df.to_csv('pheno-list.csv', index = False)"
   ]
  },
  {
   "cell_type": "code",
   "execution_count": null,
   "id": "d92e62e5",
   "metadata": {},
   "outputs": [],
   "source": [
    "json_df = pheno_df.assign(phenocode = pheno_df.phenocode.astype(str))\n",
    "\n",
    "# Ensure 'assoc_files' becomes a list of one file per row\n",
    "json_df[\"assoc_files\"] = json_df[\"assoc_files\"].apply(lambda x: [x])\n",
    "\n",
    "# Convert to list of dicts\n",
    "pheno_json = json_df.to_dict(orient=\"records\")\n",
    "\n",
    "# Write to JSON file\n",
    "with open(\"pheno-list.json\", \"w\") as f:\n",
    "    json.dump(pheno_json, f, indent=2)"
   ]
  }
 ],
 "metadata": {
  "kernelspec": {
   "display_name": "base",
   "language": "python",
   "name": "python3"
  },
  "language_info": {
   "codemirror_mode": {
    "name": "ipython",
    "version": 3
   },
   "file_extension": ".py",
   "mimetype": "text/x-python",
   "name": "python",
   "nbconvert_exporter": "python",
   "pygments_lexer": "ipython3",
   "version": "3.13.2"
  }
 },
 "nbformat": 4,
 "nbformat_minor": 5
}
